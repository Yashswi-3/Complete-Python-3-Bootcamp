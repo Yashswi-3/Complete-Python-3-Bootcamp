{
 "cells": [
  {
   "cell_type": "markdown",
   "metadata": {},
   "source": [
    "___\n",
    "\n",
    "<a href='https://www.udemy.com/user/joseportilla/'><img src='../Pierian_Data_Logo.png'/></a>\n",
    "___\n",
    "<center><em>Content Copyright by Pierian Data</em></center>"
   ]
  },
  {
   "cell_type": "markdown",
   "metadata": {},
   "source": [
    "# Milestone Project 1: Walkthrough Steps Workbook\n",
    "\n",
    "Below is a set of steps for you to follow to try to create the Tic Tac Toe Milestone Project game!"
   ]
  },
  {
   "cell_type": "markdown",
   "metadata": {},
   "source": [
    "#### Some suggested tools before you get started:\n",
    "To take input from a user:\n",
    "\n",
    "    player1 = input(\"Please pick a marker 'X' or 'O'\")\n",
    "    \n",
    "Note that input() takes in a string. If you need an integer value, use\n",
    "\n",
    "    position = int(input('Please enter a number'))\n",
    "    \n",
    "<br>To clear the screen between moves:\n",
    "\n",
    "    from IPython.display import clear_output\n",
    "    clear_output()\n",
    "    \n",
    "Note that clear_output() will only work in jupyter. To clear the screen in other IDEs, consider:\n",
    "\n",
    "    print('\\n'*100)\n",
    "    \n",
    "This scrolls the previous board up out of view. Now on to the program!"
   ]
  },
  {
   "cell_type": "markdown",
   "metadata": {},
   "source": [
    "**Step 1: Write a function that can print out a board. Set up your board as a list, where each index 1-9 corresponds with a number on a number pad, so you get a 3 by 3 board representation.**"
   ]
  },
  {
   "cell_type": "code",
   "execution_count": 1,
   "metadata": {
    "collapsed": true
   },
   "outputs": [],
   "source": [
    "from IPython.display import clear_output\n",
    "\n",
    "def display_board(bord):\n",
    "    clear_output() \n",
    "    #clear_output\n",
    "    print('   |   |')\n",
    "    print(' ' + bord[7] + ' | ' + bord[8] + ' | ' + bord[9])\n",
    "    print('   |   |')\n",
    "    print('-----------')\n",
    "    print('   |   |')\n",
    "    print(' ' + bord[4] + ' | ' + bord[5] + ' | ' + bord[6])\n",
    "    print('   |   |')\n",
    "    print('-----------')\n",
    "    print('   |   |')\n",
    "    print(' ' + bord[1] + ' | ' + bord[2] + ' | ' + bord[3])\n",
    "    print('   |   |')"
   ]
  },
  {
   "cell_type": "markdown",
   "metadata": {},
   "source": [
    "**TEST Step 1:** run your function on a test version of the board list, and make adjustments as necessary"
   ]
  },
  {
   "cell_type": "code",
   "execution_count": 2,
   "metadata": {
    "collapsed": true
   },
   "outputs": [
    {
     "name": "stdout",
     "output_type": "stream",
     "text": [
      "   |   |\n",
      " X | O | X\n",
      "   |   |\n",
      "-----------\n",
      "   |   |\n",
      " O | X | O\n",
      "   |   |\n",
      "-----------\n",
      "   |   |\n",
      " X | O | X\n",
      "   |   |\n"
     ]
    }
   ],
   "source": [
    "test_bord = ['#','X','O','X','O','X','O','X','O','X']\n",
    "display_board(test_bord)"
   ]
  },
  {
   "cell_type": "markdown",
   "metadata": {},
   "source": [
    "**Step 2: Write a function that can take in a player input and assign their marker as 'X' or 'O'. Think about using *while* loops to continually ask until you get a correct answer.**"
   ]
  },
  {
   "cell_type": "code",
   "execution_count": 25,
   "metadata": {
    "collapsed": true
   },
   "outputs": [],
   "source": [
    "def player_input():\n",
    "    \n",
    "    cho = \" \"\n",
    "    \n",
    "    while cho not in ['X','O']:\n",
    "        cho=input(\"Enter your side (X or O) :\").upper()\n",
    "\n",
    "        if cho not in ['X','O']:\n",
    "            print(\"Please choose form X or O !\")\n",
    "\n",
    "        if cho == 'X':\n",
    "            print(\"Now you are 'X'!\" )\n",
    "            return('X','O')\n",
    "        if cho == 'O':\n",
    "            print(\"Now you are 'O'!\")\n",
    "            return('O','X')"
   ]
  },
  {
   "cell_type": "markdown",
   "metadata": {},
   "source": [
    "**TEST Step 2:** run the function to make sure it returns the desired output"
   ]
  },
  {
   "cell_type": "code",
   "execution_count": 24,
   "metadata": {
    "collapsed": true
   },
   "outputs": [
    {
     "name": "stdout",
     "output_type": "stream",
     "text": [
      "Please choose form X or O !\n",
      "Now you are 'X'!\n"
     ]
    },
    {
     "data": {
      "text/plain": [
       "('X', 'O')"
      ]
     },
     "execution_count": 24,
     "metadata": {},
     "output_type": "execute_result"
    }
   ],
   "source": [
    "player_input()"
   ]
  },
  {
   "cell_type": "markdown",
   "metadata": {},
   "source": [
    "**Step 3: Write a function that takes in the board list object, a marker ('X' or 'O'), and a desired position (number 1-9) and assigns it to the board.**"
   ]
  },
  {
   "cell_type": "code",
   "execution_count": 26,
   "metadata": {
    "collapsed": true
   },
   "outputs": [],
   "source": [
    "def place_marker(bord, marker, position):\n",
    "\n",
    "    bord[position]=marker"
   ]
  },
  {
   "cell_type": "markdown",
   "metadata": {},
   "source": [
    "**TEST Step 3:** run the place marker function using test parameters and display the modified board"
   ]
  },
  {
   "cell_type": "code",
   "execution_count": 6,
   "metadata": {
    "collapsed": true
   },
   "outputs": [
    {
     "name": "stdout",
     "output_type": "stream",
     "text": [
      "   |   |\n",
      " X | $ | X\n",
      "   |   |\n",
      "-----------\n",
      "   |   |\n",
      " O | X | O\n",
      "   |   |\n",
      "-----------\n",
      "   |   |\n",
      " X | O | X\n",
      "   |   |\n"
     ]
    }
   ],
   "source": [
    "place_marker(test_bord,'$',8)\n",
    "display_board(test_bord)"
   ]
  },
  {
   "cell_type": "markdown",
   "metadata": {},
   "source": [
    "**Step 4: Write a function that takes in a board and a mark (X or O) and then checks to see if that mark has won. **"
   ]
  },
  {
   "cell_type": "code",
   "execution_count": 7,
   "metadata": {
    "collapsed": true
   },
   "outputs": [],
   "source": [
    "def win_check(bord, mark):\n",
    "    return ((bord[7]==mark and bord[8]==mark and bord[9]==mark )or\n",
    "    (bord[4]==mark and bord[5]==mark and bord[6]==mark) or\n",
    "    (bord[1]==mark and bord[2]==mark and bord[3]==mark ) or\n",
    "    (bord[1]==mark and bord[4]==mark and bord[7]==mark) or\n",
    "    (bord[2]==mark and bord[5]==mark and bord[8]==mark) or \n",
    "    (bord[3]==mark and bord[6]==mark and bord[9]==mark) or \n",
    "    (bord[1]==mark and bord[5]==mark and bord[9]==mark) or \n",
    "    (bord[3]==mark and bord[5]==mark and bord[7]==mark))\n"
   ]
  },
  {
   "cell_type": "markdown",
   "metadata": {},
   "source": [
    "**TEST Step 4:** run the win_check function against our test_board - it should return True"
   ]
  },
  {
   "cell_type": "code",
   "execution_count": 22,
   "metadata": {
    "collapsed": true
   },
   "outputs": [
    {
     "data": {
      "text/plain": [
       "False"
      ]
     },
     "execution_count": 22,
     "metadata": {},
     "output_type": "execute_result"
    }
   ],
   "source": [
    "win_check(test_bord,'o')"
   ]
  },
  {
   "cell_type": "markdown",
   "metadata": {},
   "source": [
    "**Step 5: Write a function that uses the random module to randomly decide which player goes first. You may want to lookup random.randint() Return a string of which player went first.**"
   ]
  },
  {
   "cell_type": "code",
   "execution_count": 16,
   "metadata": {
    "collapsed": true
   },
   "outputs": [],
   "source": [
    "import random\n",
    "\n",
    "def choose_first():\n",
    "   \n",
    "   if random.randint(0,1) == 0 :\n",
    "      return 'Player 1'\n",
    "   else :\n",
    "      return 'Player 2' "
   ]
  },
  {
   "cell_type": "markdown",
   "metadata": {},
   "source": [
    "**Step 6: Write a function that returns a boolean indicating whether a space on the board is freely available.**"
   ]
  },
  {
   "cell_type": "code",
   "execution_count": 17,
   "metadata": {
    "collapsed": true
   },
   "outputs": [],
   "source": [
    "def space_check(bord, position):\n",
    "    \n",
    "    return bord[position]== ' '\n",
    "    "
   ]
  },
  {
   "cell_type": "markdown",
   "metadata": {},
   "source": [
    "**Step 7: Write a function that checks if the board is full and returns a boolean value. True if full, False otherwise.**"
   ]
  },
  {
   "cell_type": "code",
   "execution_count": 18,
   "metadata": {
    "collapsed": true
   },
   "outputs": [],
   "source": [
    "def full_board_check(bord):\n",
    "    \n",
    "    for i in range(1,10):\n",
    "        if space_check(bord,i):\n",
    "            return False\n",
    "    return True"
   ]
  },
  {
   "cell_type": "markdown",
   "metadata": {},
   "source": [
    "**Step 8: Write a function that asks for a player's next position (as a number 1-9) and then uses the function from step 6 to check if it's a free position. If it is, then return the position for later use.**"
   ]
  },
  {
   "cell_type": "code",
   "execution_count": 30,
   "metadata": {
    "collapsed": true
   },
   "outputs": [],
   "source": [
    "def player_choice(bord):\n",
    "    posi=0\n",
    "    while posi not in [1,2,3,4,5,6,7,8,9] or not space_check(bord,posi):\n",
    "        posi=int(input(\"Enter a number between 1-9 :\"))\n",
    "    \n",
    "    return posi"
   ]
  },
  {
   "cell_type": "markdown",
   "metadata": {},
   "source": [
    "**Step 9: Write a function that asks the player if they want to play again and returns a boolean True if they do want to play again.**"
   ]
  },
  {
   "cell_type": "code",
   "execution_count": 20,
   "metadata": {
    "collapsed": true
   },
   "outputs": [],
   "source": [
    "def replay():\n",
    "    return input('Do you want to play again? Enter Yes or No: ').lower().startswith('y')"
   ]
  },
  {
   "cell_type": "markdown",
   "metadata": {
    "collapsed": true
   },
   "source": [
    "**Step 10: Here comes the hard part! Use while loops and the functions you've made to run the game!**"
   ]
  },
  {
   "cell_type": "code",
   "execution_count": 31,
   "metadata": {
    "collapsed": true
   },
   "outputs": [
    {
     "name": "stdout",
     "output_type": "stream",
     "text": [
      "   |   |\n",
      " O | O | O\n",
      "   |   |\n",
      "-----------\n",
      "   |   |\n",
      " X | O | X\n",
      "   |   |\n",
      "-----------\n",
      "   |   |\n",
      " O | X | O\n",
      "   |   |\n"
     ]
    },
    {
     "ename": "ValueError",
     "evalue": "invalid literal for int() with base 10: ''",
     "output_type": "error",
     "traceback": [
      "\u001b[1;31m---------------------------------------------------------------------------\u001b[0m",
      "\u001b[1;31mValueError\u001b[0m                                Traceback (most recent call last)",
      "\u001b[1;32mc:\\Users\\yashswi shukla\\Desktop\\Complete-Python-3-Bootcamp-master\\04-Milestone Project - 1\\02-Milestone Project 1 - Walkthrough Steps Workbook.ipynb Cell 31\u001b[0m in \u001b[0;36m<cell line: 4>\u001b[1;34m()\u001b[0m\n\u001b[0;32m     <a href='vscode-notebook-cell:/c%3A/Users/yashswi%20shukla/Desktop/Complete-Python-3-Bootcamp-master/04-Milestone%20Project%20-%201/02-Milestone%20Project%201%20-%20Walkthrough%20Steps%20Workbook.ipynb#X42sZmlsZQ%3D%3D?line=17'>18</a>\u001b[0m \u001b[39mif\u001b[39;00m turn \u001b[39m==\u001b[39m \u001b[39m\"\u001b[39m\u001b[39mPlayer 1\u001b[39m\u001b[39m\"\u001b[39m:\n\u001b[0;32m     <a href='vscode-notebook-cell:/c%3A/Users/yashswi%20shukla/Desktop/Complete-Python-3-Bootcamp-master/04-Milestone%20Project%20-%201/02-Milestone%20Project%201%20-%20Walkthrough%20Steps%20Workbook.ipynb#X42sZmlsZQ%3D%3D?line=18'>19</a>\u001b[0m     display_board(thebord)\n\u001b[1;32m---> <a href='vscode-notebook-cell:/c%3A/Users/yashswi%20shukla/Desktop/Complete-Python-3-Bootcamp-master/04-Milestone%20Project%20-%201/02-Milestone%20Project%201%20-%20Walkthrough%20Steps%20Workbook.ipynb#X42sZmlsZQ%3D%3D?line=19'>20</a>\u001b[0m     position\u001b[39m=\u001b[39mplayer_choice(thebord)\n\u001b[0;32m     <a href='vscode-notebook-cell:/c%3A/Users/yashswi%20shukla/Desktop/Complete-Python-3-Bootcamp-master/04-Milestone%20Project%20-%201/02-Milestone%20Project%201%20-%20Walkthrough%20Steps%20Workbook.ipynb#X42sZmlsZQ%3D%3D?line=20'>21</a>\u001b[0m     place_marker(thebord ,p1 ,position)\n\u001b[0;32m     <a href='vscode-notebook-cell:/c%3A/Users/yashswi%20shukla/Desktop/Complete-Python-3-Bootcamp-master/04-Milestone%20Project%20-%201/02-Milestone%20Project%201%20-%20Walkthrough%20Steps%20Workbook.ipynb#X42sZmlsZQ%3D%3D?line=22'>23</a>\u001b[0m     \u001b[39mif\u001b[39;00m win_check(thebord , p1):\n",
      "\u001b[1;32mc:\\Users\\yashswi shukla\\Desktop\\Complete-Python-3-Bootcamp-master\\04-Milestone Project - 1\\02-Milestone Project 1 - Walkthrough Steps Workbook.ipynb Cell 31\u001b[0m in \u001b[0;36mplayer_choice\u001b[1;34m(bord)\u001b[0m\n\u001b[0;32m      <a href='vscode-notebook-cell:/c%3A/Users/yashswi%20shukla/Desktop/Complete-Python-3-Bootcamp-master/04-Milestone%20Project%20-%201/02-Milestone%20Project%201%20-%20Walkthrough%20Steps%20Workbook.ipynb#X42sZmlsZQ%3D%3D?line=1'>2</a>\u001b[0m posi\u001b[39m=\u001b[39m\u001b[39m0\u001b[39m\n\u001b[0;32m      <a href='vscode-notebook-cell:/c%3A/Users/yashswi%20shukla/Desktop/Complete-Python-3-Bootcamp-master/04-Milestone%20Project%20-%201/02-Milestone%20Project%201%20-%20Walkthrough%20Steps%20Workbook.ipynb#X42sZmlsZQ%3D%3D?line=2'>3</a>\u001b[0m \u001b[39mwhile\u001b[39;00m posi \u001b[39mnot\u001b[39;00m \u001b[39min\u001b[39;00m [\u001b[39m1\u001b[39m,\u001b[39m2\u001b[39m,\u001b[39m3\u001b[39m,\u001b[39m4\u001b[39m,\u001b[39m5\u001b[39m,\u001b[39m6\u001b[39m,\u001b[39m7\u001b[39m,\u001b[39m8\u001b[39m,\u001b[39m9\u001b[39m] \u001b[39mor\u001b[39;00m \u001b[39mnot\u001b[39;00m space_check(bord,posi):\n\u001b[1;32m----> <a href='vscode-notebook-cell:/c%3A/Users/yashswi%20shukla/Desktop/Complete-Python-3-Bootcamp-master/04-Milestone%20Project%20-%201/02-Milestone%20Project%201%20-%20Walkthrough%20Steps%20Workbook.ipynb#X42sZmlsZQ%3D%3D?line=3'>4</a>\u001b[0m     posi\u001b[39m=\u001b[39m\u001b[39mint\u001b[39;49m(\u001b[39minput\u001b[39;49m(\u001b[39m\"\u001b[39;49m\u001b[39mEnter a number between 1-9 :\u001b[39;49m\u001b[39m\"\u001b[39;49m))\n\u001b[0;32m      <a href='vscode-notebook-cell:/c%3A/Users/yashswi%20shukla/Desktop/Complete-Python-3-Bootcamp-master/04-Milestone%20Project%20-%201/02-Milestone%20Project%201%20-%20Walkthrough%20Steps%20Workbook.ipynb#X42sZmlsZQ%3D%3D?line=5'>6</a>\u001b[0m \u001b[39mreturn\u001b[39;00m posi\n",
      "\u001b[1;31mValueError\u001b[0m: invalid literal for int() with base 10: ''"
     ]
    }
   ],
   "source": [
    "print('Welcome to Tic Tac Toe!')\n",
    "\n",
    "while True:\n",
    "    thebord = [' ']*10\n",
    "    p1,p2=player_input()\n",
    "    turn = choose_first()\n",
    "    print(turn,\" will play first.\")\n",
    "    play_game = input('Are you ready to play? Enter Yes or No.')\n",
    "    \n",
    "    if play_game.lower()[0] == 'y':\n",
    "            game_on = True\n",
    "    else:\n",
    "            game_on = False\n",
    "\n",
    "\n",
    "    while play_game:\n",
    "\n",
    "        if turn == \"Player 1\":\n",
    "            display_board(thebord)\n",
    "            position=player_choice(thebord)\n",
    "            place_marker(thebord ,p1 ,position)\n",
    "\n",
    "            if win_check(thebord , p1):\n",
    "                display_board(thebord)\n",
    "                print(\"Cong you have win the game!\")\n",
    "                game_on == False\n",
    "            else:\n",
    "                if full_board_check(thebord):\n",
    "                    display_board(thebord)\n",
    "                    print(\"It was a draw!\")\n",
    "                    break\n",
    "                else :\n",
    "                    turn = 'Player 2'\n",
    "        else: \n",
    "            display_board(thebord)\n",
    "            position=player_choice(thebord)\n",
    "            place_marker(thebord ,p2 ,position)\n",
    "\n",
    "            if win_check(thebord , p2):\n",
    "                display_board(thebord)\n",
    "                print(\"Cong you have win the game!\")\n",
    "                game_on == False\n",
    "            else:\n",
    "                if full_board_check(thebord):\n",
    "                    display_board(thebord)\n",
    "                    print(\"It was a draw!\")\n",
    "                    break\n",
    "                else :\n",
    "                    turn = 'Player 1'\n",
    "    if not replay():\n",
    "        break\n",
    "\n",
    "\n"
   ]
  },
  {
   "cell_type": "markdown",
   "metadata": {
    "collapsed": true
   },
   "source": [
    "3\n",
    "3\n",
    "3\n",
    "2\n",
    "2## Good Job!"
   ]
  }
 ],
 "metadata": {
  "kernelspec": {
   "display_name": "Python 3",
   "language": "python",
   "name": "python3"
  },
  "language_info": {
   "codemirror_mode": {
    "name": "ipython",
    "version": 3
   },
   "file_extension": ".py",
   "mimetype": "text/x-python",
   "name": "python",
   "nbconvert_exporter": "python",
   "pygments_lexer": "ipython3",
   "version": "3.9.12"
  }
 },
 "nbformat": 4,
 "nbformat_minor": 1
}
